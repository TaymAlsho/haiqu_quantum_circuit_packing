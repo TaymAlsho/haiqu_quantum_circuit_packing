{
 "cells": [
  {
   "cell_type": "markdown",
   "id": "cfca6cf1-edee-4a9d-84f2-8062822a16db",
   "metadata": {},
   "source": [
    "**AMP Incorporated Tree Packing** \n",
    "\n",
    "Quantum Computing is one of the most promising but clumsy technologies of today's world. Though critical applications are emerging in a wide variety of fields, the inefficiency of modern quantum processing units (QPUs) is holding them back from a more widespread utilization. One proposed solution for fighting this inefficiency is to run numerous instances of a provided quantum circuit at the same time by allocating space for multiple quantum circuits into a single QPU. For example, a circuit that requires 5 qubits running on a QPU with 12 available qubits leaves 7 unused, when instead, two of those circuits could run simultaneously and leave only 2 unused - not unlike parallelism in classical CPUs. \n",
    "\n",
    "**1. Problem Definition** \n",
    "\n",
    "Unfortunately, the problem is not as simple as figuring out how to fit as many circuits onto a single QPU as possible. \n",
    "\n",
    "Due to error prone qubits with poor connections that can appear after each recallibration of a QPU, it must be considered that some qubits will be better suited for a task than other qubits. Additionally, packing qubits too close to each other, especially those involved in CNOT operations, can cause unwanted crosstalk that results in significantly degraded performace. On the other hand, packing qubits too far away from each other runs the risk of wasting robust qubits and creating unreliably long qubit SWAP paths. Note that any greedy algorithm that simply selects the best qubits for each circuit at a time is subpar. \n",
    "\n",
    "So, to maximize efficiency, we should develop a packing algorithm that takes advantage of a QPU's toplogy to place as many circuits as possible, where each lacks a significant fidelity cost. \n",
    "\n",
    "**2. Solution: AMP Incorporated Tree Packing** \n",
    "\n",
    "Our proposed solution is to combine the strategies of creating a hierarchy tree for the QPU's available qubits, then searching bottom-up for an ideal cluster [1] and utilizing adaptive multi-programming (AMP) to decide on a case-by-case basis whether the available qubits are robust enough to run concurrent circuits with [2]. This way, if the available qubits and their connections are appropriate for the task at hand, the time it takes to reach the required shots could be reduced drastically by having multiple circuits contribute to the shot count at the same time. \n"
   ]
  },
  {
   "cell_type": "code",
   "execution_count": null,
   "id": "5ff9c797",
   "metadata": {},
   "outputs": [],
   "source": [
    "import networkx as nx"
   ]
  },
  {
   "cell_type": "code",
   "execution_count": null,
   "id": "140315b6",
   "metadata": {},
   "outputs": [],
   "source": [
    "def F(A, B, coupling_graph):\n",
    "    pass"
   ]
  },
  {
   "cell_type": "code",
   "execution_count": null,
   "id": "80b407f4-8199-45d0-98ee-70912b652b47",
   "metadata": {},
   "outputs": [],
   "source": [
    "def generate_hierarchy_tree(qubits, coupling_graph: nx.Graph):\n",
    "    # Input: Quantum chip coupling graph w/ calibration data\n",
    "    # Output: Hierarchy tree (HT)\n",
    "    # Algorithm:\n",
    "    #   1 Initialize HT by setting it empty;\n",
    "    #   2 Add a leaf node to HT for each qubit on chip;\n",
    "    #   3 while not all items in HT are merged for a larger community do\n",
    "    #   4   Take two items A and B that are not merged and are with the max value of F(A, B) in HT;\n",
    "    #   5   Create a New Node by setting A and B as the New Node’s left subtree and right subtree, respectively;\n",
    "    #   6   Append New Node to HT;\n",
    "    #   7 end\n",
    "    #   8 Return HT.\n",
    "\n",
    "    # [Step 1] initialize HT\n",
    "    HT = nx.DiGraph()\n",
    "\n",
    "    # [Step 2] add leaf nodes to HT\n",
    "    for node in range(qubits):\n",
    "        HT.add_node(node)\n",
    "    \n",
    "    unmerged_items = list(HT.nodes)\n",
    "    \n",
    "    # [Step 3] merge items\n",
    "    while len(unmerged_items) > 1:\n",
    "        f_max = -1\n",
    "        pair_to_merge = None\n",
    "        \n",
    "        # [Step 4] find the pair of unmerged items with the max F(A, B)\n",
    "        for i in range(len(unmerged_items)):\n",
    "            for j in range(i + 1, len(unmerged_items)):\n",
    "                A, B = unmerged_items[i], unmerged_items[j]\n",
    "                f = F(A, B, coupling_graph)\n",
    "                if f > f_max:\n",
    "                    f_max = f\n",
    "                    pair_to_merge = (A, B)\n",
    "        \n",
    "        # all items are merged\n",
    "        if pair_to_merge is None:\n",
    "            break\n",
    "        \n",
    "        A, B = pair_to_merge\n",
    "        \n",
    "        # [Step 5] create a new node with A and B as left and right subtree\n",
    "        new_node = len(HT.nodes)\n",
    "        HT.add_edge(new_node, A)\n",
    "        HT.add_edge(new_node, B)\n",
    "        \n",
    "        # [Step 6] append new node to HT\n",
    "        HT.add_node(new_node)\n",
    "        \n",
    "        unmerged_items.remove(A)\n",
    "        unmerged_items.remove(B)\n",
    "        unmerged_items.append(new_node)\n",
    "    \n",
    "    return HT"
   ]
  },
  {
   "cell_type": "markdown",
   "id": "98ec3d24-6250-49b6-9eae-5fc1c0d721fb",
   "metadata": {},
   "source": [
    "**3. Tradeoff Analysis** \n",
    "\n",
    "One crucial benefit of utilizing AMP is that we are never required to unwillingly sacrifice fidelity for shot savings. Should AMP be implemented into packing algorithms for general use, we reccomend that the cutoff for a multi-programming setup be adjustable by the user themselves. This way, the user can easily adjust the fidelity or shot savings they are aiming for if their program values speed or accuracy."
   ]
  },
  {
   "cell_type": "markdown",
   "id": "0c4b4f3d-be4a-4944-97c6-7843a71565ca",
   "metadata": {},
   "source": [
    "**References** (todo) \n",
    "\n",
    "[1] L. Liu, X. Dou, “QuCloud+: A Holistic Qubit Mapping Scheme for Single/Multi-programming on 2D/3D NISQ Quantum Computers”, 2022. \n",
    "\n",
    "[2] P. Das, S. S. Tannu, P. J. Nair, and M. Qureshi, “A Case for MultiProgramming Quantum Computers,” in Proceedings of the 52nd Annual IEEE/ACM \n",
    "    International Symposium on Microarchitecture (Micro), 2019.\n"
   ]
  }
 ],
 "metadata": {
  "kernelspec": {
   "display_name": "Python 3 (ipykernel)",
   "language": "python",
   "name": "python3"
  },
  "language_info": {
   "codemirror_mode": {
    "name": "ipython",
    "version": 3
   },
   "file_extension": ".py",
   "mimetype": "text/x-python",
   "name": "python",
   "nbconvert_exporter": "python",
   "pygments_lexer": "ipython3",
   "version": "3.12.6"
  }
 },
 "nbformat": 4,
 "nbformat_minor": 5
}
